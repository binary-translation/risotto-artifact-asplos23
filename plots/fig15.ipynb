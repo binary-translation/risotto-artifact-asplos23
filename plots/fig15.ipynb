{
 "cells": [
  {
   "cell_type": "code",
   "execution_count": null,
   "id": "aa92dc16",
   "metadata": {},
   "outputs": [],
   "source": [
    "import pandas as pd\n",
    "import numpy as np\n",
    "import seaborn as sbs\n",
    "import matplotlib.pyplot as plt\n",
    "import matplotlib.ticker"
   ]
  },
  {
   "cell_type": "code",
   "execution_count": null,
   "id": "9ae0ee68",
   "metadata": {},
   "outputs": [],
   "source": [
    "input_csv = \"../results/cas.csv\"\n",
    "baseline = \"mode,threads,vars,value\"\n",
    "base_mode, base_threads, base_vars, base_time = baseline.split(',')\n",
    "df = pd.read_csv(input_csv, sep=';')\n",
    "df"
   ]
  },
  {
   "cell_type": "code",
   "execution_count": null,
   "id": "7c43747f",
   "metadata": {},
   "outputs": [],
   "source": [
    "# change value from time to throughput\n",
    "NUM_ITERATIONS = 10000000\n",
    "df['value'] = (df['threads'] * NUM_ITERATIONS) / df['value']\n",
    "df['unit'] = 'ops/s'\n",
    "df"
   ]
  },
  {
   "cell_type": "code",
   "execution_count": null,
   "id": "ad6e7278",
   "metadata": {},
   "outputs": [],
   "source": [
    "fig = plt.figure(figsize=(6,2.5), dpi=500)\n",
    "sbs.set(style=\"whitegrid\")\n",
    "palette = {\n",
    "    'orange': '#faa200',\n",
    "    'sky blue': '#00b7ec',\n",
    "    'bluish green': '#00a077',\n",
    "    'yellow': '#f5e636',\n",
    "    'blue': '#0077b8',\n",
    "    'vermillion': '#f3640d',\n",
    "    'reddish purple': '#e47ead'\n",
    "}\n",
    "order = [ '' ]\n",
    "ax = sbs.barplot(data=df, x='dataset', y='value', hue='tag',\n",
    "                 hue_order=['qemu', 'risotto', 'native'])\n",
    "#plt.xticks(ticks=range(0, len(configs)), labels=configs, rotation=0, ha=\"center\", fontsize='xx-small')\n",
    "plt.xlabel(\"(#threads - #vars) configurations\", fontsize='x-small')\n",
    "plt.ylabel(\"CAS throughput (ops/s)\")\n",
    "ax.yaxis.set_major_formatter(matplotlib.ticker.EngFormatter(unit=''))\n",
    "\n",
    "# Set color + hatch\n",
    "style = {\n",
    "    'fill': [ True, True, True ],\n",
    "    'color': [ palette['vermillion'], palette['bluish green'], palette['orange'] ],\n",
    "    'label': [ 'QEMU', 'risotto', 'native'],\n",
    "    'hatch': [ '///', '', ''],\n",
    "    'edgecolor': [ 'black', 'black', 'black' ]\n",
    "}\n",
    "configs = set(df['dataset'].values)\n",
    "for idx, bar in enumerate(ax.patches):\n",
    "    bar_nr = int(idx / int(len(configs)))\n",
    "    bar.set(color=style['color'][bar_nr], fill=style['fill'][bar_nr],\n",
    "            hatch=style['hatch'][bar_nr], edgecolor=style['edgecolor'][bar_nr])\n",
    "    #bar.set_label(style['label'][bar_nr])\n",
    "\n",
    "handles, labels = ax.get_legend_handles_labels()\n",
    "ax.legend(labels=style['label'], handles=handles, loc='upper center', bbox_to_anchor=(.5, 1.15),\n",
    "          borderaxespad=0, ncol=3, fontsize='x-small')"
   ]
  },
  {
   "cell_type": "code",
   "execution_count": null,
   "id": "ecfb69af",
   "metadata": {},
   "outputs": [],
   "source": [
    "fig.savefig(\"fig15.pdf\", dpi=500, bbox_inches='tight')"
   ]
  }
 ],
 "metadata": {
  "kernelspec": {
   "display_name": "Python 3 (ipykernel)",
   "language": "python",
   "name": "python3"
  },
  "language_info": {
   "codemirror_mode": {
    "name": "ipython",
    "version": 3
   },
   "file_extension": ".py",
   "mimetype": "text/x-python",
   "name": "python",
   "nbconvert_exporter": "python",
   "pygments_lexer": "ipython3",
   "version": "3.10.7"
  }
 },
 "nbformat": 4,
 "nbformat_minor": 5
}
